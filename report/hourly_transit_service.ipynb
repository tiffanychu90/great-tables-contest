{
  "cells": [
    {
      "cell_type": "raw",
      "metadata": {},
      "source": [
        "---\n",
        "title: Transit Service Patterns in California\n",
        "execute:\n",
        "  echo: false\n",
        "format:\n",
        "  html:\n",
        "    mainfont: sans-serif\n",
        "    monofont: sans-serif\n",
        "    css: boostrap_sandstone.css\n",
        "    anchor-sections: true\n",
        "    toc: true\n",
        "    toc-title: Contents\n",
        "    toc-depth: 3\n",
        "    code-links:\n",
        "      - text: Datasets\n",
        "        icon: github\n",
        "        href: 'https://github.com/tiffanychu90/great-tables-contest/blob/main/data/'\n",
        "      - text: Data Cleaning Code\n",
        "        icon: github\n",
        "        href: 'https://github.com/tiffanychu90/great-tables-contest/blob/main/scripts/aggregate.py'\n",
        "      - text: GTFS\n",
        "        icon: bus-front\n",
        "        href: 'https://gtfs.org'\n",
        "      - text: GTFS stop times\n",
        "        icon: bus-front\n",
        "        href: 'https://gtfs.org/schedule/reference/#stop_timestxt'\n",
        "      - text: Cal-ITP Analysis Products\n",
        "        icon: bar-chart-fill\n",
        "        href: 'https://analysis.calitp.org'\n",
        "      - text: Reach Out!\n",
        "        icon: envelope\n",
        "        href: 'mailto:hello@calitp.org'\n",
        "---"
      ]
    },
    {
      "cell_type": "code",
      "metadata": {
        "tags": []
      },
      "source": [
        "# theme: flatly, lumen, sandstone, yeti\n",
        "import polars as pl\n",
        "from great_tables import GT, _data_color, md, nanoplot_options\n",
        "from IPython.display import Markdown"
      ],
      "execution_count": null,
      "outputs": []
    },
    {
      "cell_type": "code",
      "metadata": {
        "tags": []
      },
      "source": [
        "df = pl.read_parquet(\n",
        "    f\"../data/arrivals_polars.parquet\"\n",
        ").sort(\"caltrans_district\", \"n_trips\", descending=[False, False])"
      ],
      "execution_count": null,
      "outputs": []
    },
    {
      "cell_type": "code",
      "metadata": {
        "tags": []
      },
      "source": [
        "all_districts = sorted(df.get_column(\"caltrans_district\").unique())"
      ],
      "execution_count": null,
      "outputs": []
    },
    {
      "cell_type": "code",
      "metadata": {
        "tags": []
      },
      "source": [
        "def get_hex(color_name: str) -> str:\n",
        "    \"\"\"\n",
        "    Since some of the color names don't pull the hex code, \n",
        "    we'll grab it here.\n",
        "    \"\"\"\n",
        "    return _data_color.constants.COLOR_NAME_TO_HEX[color_name]\n",
        "\n",
        "nano_options = nanoplot_options(\n",
        "    data_point_radius=0,\n",
        "    data_point_stroke_color=\"none\",\n",
        "    data_point_stroke_width=0,\n",
        "    data_line_type=\"curved\",\n",
        "    data_line_stroke_color=get_hex(\"steelblue4\"),\n",
        "    data_line_stroke_width=8,\n",
        "    data_area_fill_color=get_hex(\"steelblue4\"),\n",
        "    #vertical_guide_stroke_color=None,\n",
        "    show_y_axis_guide=True,\n",
        "    #show_vertical_guides=False,\n",
        "    interactive_data_values = True,\n",
        "    #reference_line_color=get_hex(\"salmon1\"),\n",
        "    show_reference_line=False\n",
        ")"
      ],
      "execution_count": null,
      "outputs": []
    },
    {
      "cell_type": "code",
      "metadata": {
        "tags": []
      },
      "source": [
        "# https://quarto.org/docs/output-formats/html-themes.html\n",
        "# https://github.com/posit-dev/great-tables/blob/main/great_tables/_data_color/constants.py\n",
        "def make_plot(df):\n",
        "    \"\"\"\n",
        "    Make table for each district.\n",
        "    \"\"\"\n",
        "    # equivalent of df.iloc\n",
        "    district_name = df.item(0, \"caltrans_district\")\n",
        "    \n",
        "    table = (GT(df)\n",
        "    .fmt_integer(\n",
        "          columns = [\"n_trips\"]\n",
        "     ).data_color(\n",
        "        columns=[\"n_trips\"],\n",
        "        palette=[\"white\", get_hex(\"mediumseagreen\")],\n",
        "        na_color=\"lightgray\"\n",
        "     ).fmt_nanoplot(\n",
        "         columns = \"weekday_arrivals\", \n",
        "         plot_type=\"line\",\n",
        "         reference_line=\"mean\",\n",
        "         options = nano_options\n",
        "     ).fmt_nanoplot(\n",
        "         columns = \"weekend_arrivals\", \n",
        "         plot_type=\"line\",\n",
        "         reference_line=\"mean\",\n",
        "         options = nano_options\n",
        "     ).cols_label(\n",
        "         name = \"Operator\",\n",
        "         n_trips = \"Weekly Trips\",\n",
        "         weekday_arrivals = \"Weekday Arrivals\",\n",
        "         weekend_arrivals = \"Weekend Arrivals\",\n",
        "     ).sub_missing(\n",
        "         columns = [\"weekday_arrivals\", \"weekend_arrivals\"],\n",
        "         missing_text = \"\"\n",
        "     ).tab_header(\n",
        "         title = f\"Stop Arrivals by Hour\",\n",
        "         #subtitle = \"weekday vs weekend totals\"\n",
        "     )#.tab_source_note(\n",
        "      #   source_note = \"GTFS scheduled stop_times.txt\"\n",
        "     #).tab_source_note(\n",
        "      #  source_note = md(\n",
        "      #      \"[GTFS specification](https://gtfs.org/schedule/reference/#stop_timestxt)\"\n",
        "      #  )\n",
        "     #)\n",
        "    .tab_options(\n",
        "        container_width = \"100%\",\n",
        "        table_background_color=\"white\",\n",
        "        table_body_hlines_style=\"none\",\n",
        "        table_body_vlines_style=\"none\",\n",
        "        heading_background_color=\"white\",\n",
        "        column_labels_background_color=\"white\",\n",
        "        row_group_background_color=\"white\",\n",
        "        stub_background_color=\"white\",\n",
        "        source_notes_background_color=\"white\"\n",
        "     )\n",
        "    .cols_hide(\"caltrans_district\")\n",
        "    )\n",
        "    return table"
      ],
      "execution_count": null,
      "outputs": []
    },
    {
      "cell_type": "markdown",
      "metadata": {},
      "source": [
        "Have you ever been curious about transit service patterns in California? What would hourly service patterns tell us about the types of riders the operator is oriented to serve? \n",
        "\n",
        "Service geared towards commuters have pronounced camel peaks during the AM and PM peak commuting hours. Service geared towards travelers would provide mostly consistent service throughout the day. After all, travelers passing through the airport expect to catch a shuttle, no matter the time-of-day.\n",
        "\n",
        "We can use GTFS scheduled stop times to count the number of arrivals for each hour of the day and look at how weekday and weekend service differ by operators. Within each Caltrans District, operators are sorted according to the number of weekly trip volume. **A `great_tables` nanoplot is a great way to convey, at a glance, the operator's hourly service profile while situating the operator's service in a regional context.** \n",
        "\n",
        "## Service Patterns\n",
        "\n",
        "### Higher Peak Service with Steady Midday Service\n",
        "* This is a common service pattern. There are slight camel peaks during the AM and PM peak periods. Service may drop slightly during early morning, midday, and evening periods, but there is still considerable service. Typically there is no owl service.\n",
        "* Clearer examples by district: [Redwood Coast (District 1)](#eureka), [Roseville and Yolobus (District 3)](#marysville), [PresidiGo (District 4)](#oakland), [County Express (District 5)](#san-luis-obispo), [Delano (District 6)](#fresno), [DowneyLINK GMV (District 7)](#los-angeles), [Beaumont Pass (District 8)](#san-bernardino), [Tracy (District 10)](#stockton), and [Imperial Valley Transit (District 11)](#san-diego).\n",
        "\n",
        "\n",
        "### Steady 24 Hour Service\n",
        "* [Bay Area 511 Muni (District 4)](#oakland) provides some level of service at all hours of the day. While it drops to roughly 10-15% capacity between 1 AM - 4 AM, it's impressive that there are still over 12,000 stops with scheduled service on the system. Service is simiar on the weekends as it is on weekdays.\n",
        "* [Bay Area 511 BART (District 4)](#oakland) is similar to Muni. Two notable differences are that there is no BART service between 2 AM - 3 AM on weekdays (2 AM - 4 AM on weekends) and that weekend service begins one hour later in the morning.\n",
        "\n",
        "### Commuter Service\n",
        "* [Bay Area 511 Mission Bay and Bay Area 511 Commute.org (District 4)](#oakland) both serve commuter riders primarily, with pronounced AM and PM peak service, no scheduled midday arrivals during weekdays, and no weekend service.\n",
        "\n",
        "### Primarily Midday Service\n",
        "* [Cerritos on Wheels (District 7)](#los-angeles) delivers meals to seniors, and operates strictly during business hours (9 AM - 5 PM). Operating strictly within typical business hours is consistent with an operator providing a type of government service. \n",
        "\n",
        "### Traveler Service\n",
        "* [LAX FlyAway (District 7)](#los-angeles) operates round-the-clock, dipping only between 2 AM - 3 AM.\n",
        "* [Anaheim Resort (District 12)](#irvine) continuously provides shuttle service to Disneyland visitors, except from 2 AM - 4 AM.\n",
        "\n",
        "### Methodology\n",
        "\n",
        "**About**\n",
        "\n",
        "The Caltrans Division of Data & Digital Services (you may also know us as the [California Integrated Travel Project](https://www.calitp.org/)) has a data warehouse that daily ingests all the available GTFS schedule and real-time feeds for all transit operators in the state (and some outside of it too, like Amtrak)! We are working on modernize the tranpsortation experience through our data and digital lens. \n",
        "\n",
        "**Who / What / Where / When / Why / How**\n",
        "\n",
        "**Who**: All California operators.\n",
        "\n",
        "**What**: The main dataset used for this analysis is *stop times*, essentially one timetable that shows all the scheduled stop arrivals on a given day. \n",
        "\n",
        "**Where**: California - yes, this is for the entire state!\n",
        "\n",
        "**When**: We are using the stop times tables spanning April 15 - 21, 2024.\n",
        "\n",
        "**Why**: We can see what service patterns look like across operators by hour of the day. In one table, we can quickly see a summary snapshot of what this service pattern is and see the type of riders the operator typically serves. Here's the same [chart](https://www.ncbi.nlm.nih.gov/pmc/articles/PMC7160583/figure/fig6/) made in a [paper](https://www.ncbi.nlm.nih.gov/pmc/articles/PMC7160583) about for transit in Calgary, Canada.\n",
        "\n",
        "**How**: All the stop times are binned by departure hour and aggregated by hour, day, and operator. There is a step to inject rows to hold zeroes where there is no scheduled stop arrival (since those would naturally *not* appear in our dataset). The dataset is then aggregated for each operator by weekday and weekend. To make regional comparisons easier, a crosswalk is merged in so we know which Caltrans District the operator belongs in.\n",
        "\n",
        "## District Tables"
      ]
    },
    {
      "cell_type": "code",
      "metadata": {
        "tags": []
      },
      "source": [
        "#for d in all_districts:\n",
        "    #table = make_plot(df.filter(pl.col(\"caltrans_district\") == d))\n",
        "    #display(\n",
        "    #    Markdown(f\"### District {d}\")\n",
        "    #)\n",
        "    #display(table)\n"
      ],
      "execution_count": null,
      "outputs": []
    },
    {
      "cell_type": "markdown",
      "metadata": {},
      "source": [
        "### 01 - Eureka"
      ]
    },
    {
      "cell_type": "code",
      "metadata": {
        "tags": []
      },
      "source": [
        "d = \"01 - Eureka\"\n",
        "make_plot(df.filter(pl.col(\"caltrans_district\") == d))"
      ],
      "execution_count": null,
      "outputs": []
    },
    {
      "cell_type": "markdown",
      "metadata": {},
      "source": [
        "### 02 - Redding"
      ]
    },
    {
      "cell_type": "code",
      "metadata": {
        "tags": []
      },
      "source": [
        "d = \"02 - Redding\"\n",
        "make_plot(df.filter(pl.col(\"caltrans_district\") == d))"
      ],
      "execution_count": null,
      "outputs": []
    },
    {
      "cell_type": "markdown",
      "metadata": {},
      "source": [
        "### 03 - Marysville"
      ]
    },
    {
      "cell_type": "code",
      "metadata": {
        "tags": []
      },
      "source": [
        "d = \"03 - Marysville\"\n",
        "make_plot(df.filter(pl.col(\"caltrans_district\") == d))"
      ],
      "execution_count": null,
      "outputs": []
    },
    {
      "cell_type": "markdown",
      "metadata": {},
      "source": [
        "### 04 - Oakland"
      ]
    },
    {
      "cell_type": "code",
      "metadata": {
        "tags": []
      },
      "source": [
        "d = \"04 - Oakland\"\n",
        "make_plot(df.filter(pl.col(\"caltrans_district\") == d))"
      ],
      "execution_count": null,
      "outputs": []
    },
    {
      "cell_type": "markdown",
      "metadata": {},
      "source": [
        "### 05 - San Luis Obispo"
      ]
    },
    {
      "cell_type": "code",
      "metadata": {
        "tags": []
      },
      "source": [
        "d = \"05 - San Luis Obispo\"\n",
        "make_plot(df.filter(pl.col(\"caltrans_district\") == d))"
      ],
      "execution_count": null,
      "outputs": []
    },
    {
      "cell_type": "markdown",
      "metadata": {},
      "source": [
        "### 06 - Fresno"
      ]
    },
    {
      "cell_type": "code",
      "metadata": {
        "tags": []
      },
      "source": [
        "d = \"06 - Fresno\"\n",
        "make_plot(df.filter(pl.col(\"caltrans_district\") == d))"
      ],
      "execution_count": null,
      "outputs": []
    },
    {
      "cell_type": "markdown",
      "metadata": {},
      "source": [
        "### 07 - Los Angeles"
      ]
    },
    {
      "cell_type": "code",
      "metadata": {
        "tags": []
      },
      "source": [
        "d = \"07 - Los Angeles\"\n",
        "make_plot(df.filter(pl.col(\"caltrans_district\") == d))"
      ],
      "execution_count": null,
      "outputs": []
    },
    {
      "cell_type": "markdown",
      "metadata": {},
      "source": [
        "### 08 - San Bernardino"
      ]
    },
    {
      "cell_type": "code",
      "metadata": {
        "tags": []
      },
      "source": [
        "d = \"08 - San Bernardino\"\n",
        "make_plot(df.filter(pl.col(\"caltrans_district\") == d))"
      ],
      "execution_count": null,
      "outputs": []
    },
    {
      "cell_type": "markdown",
      "metadata": {},
      "source": [
        "### 09 - Bishop"
      ]
    },
    {
      "cell_type": "code",
      "metadata": {
        "tags": []
      },
      "source": [
        "d = \"09 - Bishop\"\n",
        "make_plot(df.filter(pl.col(\"caltrans_district\") == d))"
      ],
      "execution_count": null,
      "outputs": []
    },
    {
      "cell_type": "markdown",
      "metadata": {},
      "source": [
        "### 10 - Stockton"
      ]
    },
    {
      "cell_type": "code",
      "metadata": {
        "tags": []
      },
      "source": [
        "d = \"10 - Stockton\"\n",
        "make_plot(df.filter(pl.col(\"caltrans_district\") == d))"
      ],
      "execution_count": null,
      "outputs": []
    },
    {
      "cell_type": "markdown",
      "metadata": {},
      "source": [
        "### 11 - San Diego"
      ]
    },
    {
      "cell_type": "code",
      "metadata": {
        "tags": []
      },
      "source": [
        "d = \"11 - San Diego\"\n",
        "make_plot(df.filter(pl.col(\"caltrans_district\") == d))"
      ],
      "execution_count": null,
      "outputs": []
    },
    {
      "cell_type": "markdown",
      "metadata": {},
      "source": [
        "### 12 - Irvine"
      ]
    },
    {
      "cell_type": "code",
      "metadata": {
        "tags": []
      },
      "source": [
        "d = \"12 - Irvine\"\n",
        "make_plot(df.filter(pl.col(\"caltrans_district\") == d))"
      ],
      "execution_count": null,
      "outputs": []
    }
  ],
  "metadata": {
    "kernelspec": {
      "name": "python3",
      "language": "python",
      "display_name": "Python 3 (ipykernel)"
    }
  },
  "nbformat": 4,
  "nbformat_minor": 4
}