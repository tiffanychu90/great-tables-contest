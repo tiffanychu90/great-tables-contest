{
 "cells": [
  {
   "cell_type": "code",
   "execution_count": null,
   "id": "90bd3dba-bf8b-49b0-85dc-f3e21fe179f9",
   "metadata": {
    "tags": []
   },
   "outputs": [],
   "source": [
    "%%html\n",
    "<style type='text/css'>\n",
    ".CodeMirror{\n",
    "font-size: 12px;\n",
    "</style>"
   ]
  },
  {
   "cell_type": "raw",
   "id": "010ca74b-e5f5-4ed4-a539-974f32259945",
   "metadata": {},
   "source": [
    "---\n",
    "title: \"Transit Service in California\"\n",
    "execute:\n",
    "    echo: false    \n",
    "format:\n",
    "    html:\n",
    "        theme: yeti\n",
    "        cold-fold: true\n",
    "        mainfont: sans-serif\n",
    "        monofont: sans-serif\n",
    "---"
   ]
  },
  {
   "cell_type": "code",
   "execution_count": null,
   "id": "084e8952-417d-489d-bc62-40b0c0127bc6",
   "metadata": {
    "tags": []
   },
   "outputs": [],
   "source": [
    "# flatly, lumen, sandstone, yeti\n",
    "#import pandas as pd\n",
    "import polars as pl\n",
    "from great_tables import GT, _data_color, md, nanoplot_options\n",
    "from IPython.display import Markdown"
   ]
  },
  {
   "cell_type": "code",
   "execution_count": null,
   "id": "9547ce1e-a547-4984-bae2-7cab291c855f",
   "metadata": {
    "tags": []
   },
   "outputs": [],
   "source": [
    "df = pl.read_parquet(\n",
    "    f\"../data/arrivals_polars.parquet\"\n",
    ").sort(\"caltrans_district\", \"n_trips\", descending=[False, False])"
   ]
  },
  {
   "cell_type": "code",
   "execution_count": null,
   "id": "e393dec7-af50-4696-af01-6b08d9a8acb0",
   "metadata": {
    "tags": []
   },
   "outputs": [],
   "source": [
    "all_districts = sorted(df.get_column(\"caltrans_district\").unique())"
   ]
  },
  {
   "cell_type": "code",
   "execution_count": null,
   "id": "9cb80a03-f660-4972-8bb9-d3b86a4cd8ff",
   "metadata": {
    "tags": []
   },
   "outputs": [],
   "source": [
    "def get_hex(color_name: str) -> str:\n",
    "    \"\"\"\n",
    "    Since some of the color names don't pull the hex code, \n",
    "    we'll grab it here.\n",
    "    \"\"\"\n",
    "    return _data_color.constants.COLOR_NAME_TO_HEX[color_name]\n",
    "\n",
    "nano_options = nanoplot_options(\n",
    "    data_point_radius=0,\n",
    "    data_point_stroke_color=\"none\",\n",
    "    data_point_stroke_width=0,\n",
    "    data_line_type=\"curved\",\n",
    "    data_line_stroke_color=get_hex(\"steelblue4\"),\n",
    "    data_line_stroke_width=8,\n",
    "    data_area_fill_color=get_hex(\"steelblue4\"),\n",
    "    #vertical_guide_stroke_color=None,\n",
    "    show_y_axis_guide=True,\n",
    "    #show_vertical_guides=False,\n",
    "    interactive_data_values = True,\n",
    "    #reference_line_color=get_hex(\"salmon1\"),\n",
    "    show_reference_line=False\n",
    ")"
   ]
  },
  {
   "cell_type": "code",
   "execution_count": null,
   "id": "240c7809-0435-4c1b-b0d2-dd70f59bb9a2",
   "metadata": {
    "tags": []
   },
   "outputs": [],
   "source": [
    "# https://quarto.org/docs/output-formats/html-themes.html\n",
    "# https://github.com/posit-dev/great-tables/blob/main/great_tables/_data_color/constants.py\n",
    "def make_plot(df):\n",
    "    table = (GT(df)\n",
    "     #.data_color(\n",
    "     #    columns = [\"caltrans_district\"],\n",
    "     #    palette = \"Pastel1\"\n",
    "     #)\n",
    "    .fmt_integer(\n",
    "          columns = [\"n_trips\"]\n",
    "     ).data_color(\n",
    "        columns=[\"n_trips\"],\n",
    "        palette=[\"white\", \"steelblue\"],\n",
    "        na_color=\"lightgray\"\n",
    "     ).fmt_nanoplot(\n",
    "         columns = \"weekday_arrivals\", \n",
    "         plot_type=\"line\",\n",
    "         reference_line=\"mean\",\n",
    "         options = nano_options\n",
    "     ).fmt_nanoplot(\n",
    "         columns = \"weekend_arrivals\", \n",
    "         plot_type=\"line\",\n",
    "         reference_line=\"mean\",\n",
    "         options = nano_options\n",
    "     ).cols_label(\n",
    "         name = \"Operator\",\n",
    "         n_trips = \"Weekly Trips\",\n",
    "         weekday_arrivals = \"Weekday Arrivals\",\n",
    "         weekend_arrivals = \"Weekend Arrivals\",\n",
    "     ).sub_missing(\n",
    "         columns = [\"weekday_arrivals\", \"weekend_arrivals\"],\n",
    "         missing_text = \"\"\n",
    "     ).tab_header(\n",
    "         title = \"Transit Arrivals by the Hour\",\n",
    "         #subtitle = \"weekday vs weekend totals\"\n",
    "     )#.tab_source_note(\n",
    "      #   source_note = \"GTFS scheduled stop_times.txt\"\n",
    "     #).tab_source_note(\n",
    "      #  source_note = md(\n",
    "      #      \"[GTFS specification](https://gtfs.org/schedule/reference/#stop_timestxt)\"\n",
    "      #  )\n",
    "     #)\n",
    "    .tab_options(\n",
    "        container_width = \"100%\",\n",
    "        table_background_color=\"white\",\n",
    "        table_body_hlines_style=\"none\",\n",
    "        table_body_vlines_style=\"none\",\n",
    "        heading_background_color=\"white\",\n",
    "        column_labels_background_color=\"white\",\n",
    "        row_group_background_color=\"white\",\n",
    "        stub_background_color=\"white\",\n",
    "        source_notes_background_color=\"white\"\n",
    "     )\n",
    "    .cols_hide(\"caltrans_district\")\n",
    "    )\n",
    "    return table"
   ]
  },
  {
   "cell_type": "code",
   "execution_count": null,
   "id": "defcf3a0-451b-4b0d-aeac-ea2352275d0a",
   "metadata": {
    "tags": []
   },
   "outputs": [],
   "source": [
    "def district_plot(district_name: str):\n",
    "    display(Markdown(f\"## {district_name}\"))\n",
    "    table = make_plot(df.filter(pl.col(\"caltrans_district\") == district_name))\n",
    "    display(table)"
   ]
  },
  {
   "cell_type": "markdown",
   "id": "58e4b5eb-2790-4658-a947-9753f803e827",
   "metadata": {},
   "source": [
    "How does transit service breakdown by the hour?\n",
    "\n",
    "While transit operators typically operate at higher frequencies during peak \n",
    "commuting hours, there might be differences across operators. \n",
    "\n",
    "Some operators might have consistent all day service (District 7 - LA Metro), while others\n",
    "operate primarily during peak hours or only certain hours of the day. \n",
    "\n",
    "We can use GTFS scheduled stop times to count the number of arrivals \n",
    "for each hour of the day and look at how weekday and weekend service differ by operators.\n",
    "    \n",
    "References:\n",
    "* [General Transit Feed Specification](https://gtfs.org/)\n",
    "* [GTFS stop_times table](https://gtfs.org/schedule/reference/#stop_timestxt)"
   ]
  },
  {
   "cell_type": "code",
   "execution_count": null,
   "id": "30b74dc0-57af-4354-ac50-6e055a432aa3",
   "metadata": {
    "tags": []
   },
   "outputs": [],
   "source": [
    "for d in all_districts:\n",
    "    district_plot(d)"
   ]
  }
 ],
 "metadata": {
  "kernelspec": {
   "display_name": "Python 3 (ipykernel)",
   "language": "python",
   "name": "python3"
  },
  "language_info": {
   "codemirror_mode": {
    "name": "ipython",
    "version": 3
   },
   "file_extension": ".py",
   "mimetype": "text/x-python",
   "name": "python",
   "nbconvert_exporter": "python",
   "pygments_lexer": "ipython3",
   "version": "3.11.6"
  }
 },
 "nbformat": 4,
 "nbformat_minor": 5
}
