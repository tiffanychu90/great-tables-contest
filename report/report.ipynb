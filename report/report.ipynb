{
 "cells": [
  {
   "cell_type": "raw",
   "metadata": {},
   "source": [
    "---\n",
    "title: Transit Service in California\n",
    "execute:\n",
    "  echo: false\n",
    "format:\n",
    "  html:\n",
    "    mainfont: sans-serif\n",
    "    monofont: sans-serif\n",
    "---"
   ]
  },
  {
   "cell_type": "code",
   "execution_count": null,
   "metadata": {
    "tags": []
   },
   "outputs": [],
   "source": [
    "# theme: flatly, lumen, sandstone, yeti\n",
    "import polars as pl\n",
    "from great_tables import GT, _data_color, md, nanoplot_options\n",
    "from IPython.display import Markdown"
   ]
  },
  {
   "cell_type": "code",
   "execution_count": null,
   "metadata": {
    "tags": []
   },
   "outputs": [],
   "source": [
    "import pandas as pd\n",
    "\n",
    "df = pd.read_parquet(\n",
    "    f\"../data/arrivals_per_hour.parquet\",\n",
    "    filters = [[(\"caltrans_district\", \"==\", \"04 - Oakland\")]]\n",
    ").drop_duplicates()"
   ]
  },
  {
   "cell_type": "code",
   "execution_count": null,
   "metadata": {
    "tags": []
   },
   "outputs": [],
   "source": [
    "12020 / 103495"
   ]
  },
  {
   "cell_type": "code",
   "execution_count": null,
   "metadata": {
    "tags": []
   },
   "outputs": [],
   "source": [
    "df[(df.name.str.contains(\"BART\")) & (df.day_type==\"weekday\")]"
   ]
  },
  {
   "cell_type": "code",
   "execution_count": null,
   "metadata": {
    "tags": []
   },
   "outputs": [],
   "source": [
    "df = pl.read_parquet(\n",
    "    f\"../data/arrivals_polars.parquet\"\n",
    ").sort(\"caltrans_district\", \"n_trips\", descending=[False, False])"
   ]
  },
  {
   "cell_type": "code",
   "execution_count": null,
   "metadata": {
    "tags": []
   },
   "outputs": [],
   "source": [
    "all_districts = sorted(df.get_column(\"caltrans_district\").unique())"
   ]
  },
  {
   "cell_type": "code",
   "execution_count": null,
   "metadata": {
    "tags": []
   },
   "outputs": [],
   "source": [
    "def get_hex(color_name: str) -> str:\n",
    "    \"\"\"\n",
    "    Since some of the color names don't pull the hex code, \n",
    "    we'll grab it here.\n",
    "    \"\"\"\n",
    "    return _data_color.constants.COLOR_NAME_TO_HEX[color_name]\n",
    "\n",
    "nano_options = nanoplot_options(\n",
    "    data_point_radius=0,\n",
    "    data_point_stroke_color=\"none\",\n",
    "    data_point_stroke_width=0,\n",
    "    data_line_type=\"curved\",\n",
    "    data_line_stroke_color=get_hex(\"steelblue4\"),\n",
    "    data_line_stroke_width=8,\n",
    "    data_area_fill_color=get_hex(\"steelblue4\"),\n",
    "    #vertical_guide_stroke_color=None,\n",
    "    show_y_axis_guide=True,\n",
    "    #show_vertical_guides=False,\n",
    "    interactive_data_values = True,\n",
    "    #reference_line_color=get_hex(\"salmon1\"),\n",
    "    show_reference_line=False\n",
    ")"
   ]
  },
  {
   "cell_type": "code",
   "execution_count": null,
   "metadata": {
    "tags": []
   },
   "outputs": [],
   "source": [
    "# https://quarto.org/docs/output-formats/html-themes.html\n",
    "# https://github.com/posit-dev/great-tables/blob/main/great_tables/_data_color/constants.py\n",
    "def make_plot(df):\n",
    "    \"\"\"\n",
    "    Make table for each district.\n",
    "    \"\"\"\n",
    "    # equivalent of df.iloc\n",
    "    district_name = df.item(0, \"caltrans_district\")\n",
    "    \n",
    "    table = (GT(df)\n",
    "    .fmt_integer(\n",
    "          columns = [\"n_trips\"]\n",
    "     ).data_color(\n",
    "        columns=[\"n_trips\"],\n",
    "        palette=[\"white\", get_hex(\"mediumseagreen\")],\n",
    "        na_color=\"lightgray\"\n",
    "     ).fmt_nanoplot(\n",
    "         columns = \"weekday_arrivals\", \n",
    "         plot_type=\"line\",\n",
    "         reference_line=\"mean\",\n",
    "         options = nano_options\n",
    "     ).fmt_nanoplot(\n",
    "         columns = \"weekend_arrivals\", \n",
    "         plot_type=\"line\",\n",
    "         reference_line=\"mean\",\n",
    "         options = nano_options\n",
    "     ).cols_label(\n",
    "         name = \"Operator\",\n",
    "         n_trips = \"Weekly Trips\",\n",
    "         weekday_arrivals = \"Weekday Arrivals\",\n",
    "         weekend_arrivals = \"Weekend Arrivals\",\n",
    "     ).sub_missing(\n",
    "         columns = [\"weekday_arrivals\", \"weekend_arrivals\"],\n",
    "         missing_text = \"\"\n",
    "     ).tab_header(\n",
    "         title = f\"District {district_name}: Stop Arrivals by Hour\",\n",
    "         subtitle = \"weekday vs weekend totals\"\n",
    "     )#.tab_source_note(\n",
    "      #   source_note = \"GTFS scheduled stop_times.txt\"\n",
    "     #).tab_source_note(\n",
    "      #  source_note = md(\n",
    "      #      \"[GTFS specification](https://gtfs.org/schedule/reference/#stop_timestxt)\"\n",
    "      #  )\n",
    "     #)\n",
    "    .tab_options(\n",
    "        container_width = \"100%\",\n",
    "        table_background_color=\"white\",\n",
    "        table_body_hlines_style=\"none\",\n",
    "        table_body_vlines_style=\"none\",\n",
    "        heading_background_color=\"white\",\n",
    "        column_labels_background_color=\"white\",\n",
    "        row_group_background_color=\"white\",\n",
    "        stub_background_color=\"white\",\n",
    "        source_notes_background_color=\"white\"\n",
    "     )\n",
    "    .cols_hide(\"caltrans_district\")\n",
    "    )\n",
    "    return table"
   ]
  },
  {
   "cell_type": "markdown",
   "metadata": {},
   "source": [
    "How does transit service breakdown by the hour?\n",
    "\n",
    "While transit operators typically operate at higher frequencies during peak \n",
    "commuting hours, there might be differences across operators. \n",
    "\n",
    "We can use GTFS scheduled stop times to count the number of arrivals \n",
    "for each hour of the day and look at how weekday and weekend service differ by operators. Within each Caltrans District, operators are sorted according to the number of weekly trip volume, from least to most.\n",
    "\n",
    "Here are a couple of interesting service patterns:\n",
    "\n",
    "## Commuter Service\n",
    "* **Bay Area 511 Mission Bay and Bay Area 511 Commute.org (District 4)** both serve commuter riders primarily, with pronounced AM and PM peak service, no scheduled midday arrivals during weekdays, and no weekend service.\n",
    "\n",
    "## Primarily Midday Service\n",
    "* **Cerritos on Wheels (District 7)** operates strictly during business hours (9 AM - 5 PM).\n",
    "\n",
    "## Service for Travelers\n",
    "* **LAX FlyAway (District 7)** operates round-the-clock, dipping only between 2 AM - 3 AM.\n",
    "* **Anaheim Resort (District 12)** continuously provides shuttle service to Disneyland visitors, except from 2 AM - 4 AM.\n",
    "    \n",
    "### References\n",
    "* [General Transit Feed Specification](https://gtfs.org/)<br>\n",
    "* [GTFS stop_times table](https://gtfs.org/schedule/reference/#stop_timestxt)"
   ]
  },
  {
   "cell_type": "code",
   "execution_count": null,
   "metadata": {
    "tags": []
   },
   "outputs": [],
   "source": [
    "for d in all_districts:\n",
    "    table = make_plot(df.filter(pl.col(\"caltrans_district\") == d))\n",
    "    display(table)"
   ]
  },
  {
   "cell_type": "code",
   "execution_count": null,
   "metadata": {},
   "outputs": [],
   "source": []
  }
 ],
 "metadata": {
  "kernelspec": {
   "display_name": "Python 3 (ipykernel)",
   "language": "python",
   "name": "python3"
  },
  "language_info": {
   "codemirror_mode": {
    "name": "ipython",
    "version": 3
   },
   "file_extension": ".py",
   "mimetype": "text/x-python",
   "name": "python",
   "nbconvert_exporter": "python",
   "pygments_lexer": "ipython3",
   "version": "3.11.6"
  }
 },
 "nbformat": 4,
 "nbformat_minor": 4
}
